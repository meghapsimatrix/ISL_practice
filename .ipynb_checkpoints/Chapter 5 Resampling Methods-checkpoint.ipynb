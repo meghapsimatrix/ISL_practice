{
 "cells": [
  {
   "cell_type": "markdown",
   "id": "984e54c3",
   "metadata": {},
   "source": [
    "Drawing samples from training set and re-fitting model - variability \n",
    "Cross validation and bootstrapping\n",
    "\n",
    "Cross validation \n",
    "- test error - easy when test edata is available \n",
    "- validation estimate of test error can be variable\n",
    "- only subset are included in training rather than validation are used to fit the model\n",
    "\n",
    "LOOCV\n",
    "- single observation for validation and rest for training - MSE highly variable\n",
    "- then repeat by exclusing another observation and take the average of the MSE\n",
    "- less bias because we are using more training set - won't overestimate the test error rate \n",
    "- we won't get different results  - because there is no randomness\n",
    "- expensive to implement ~ but shortcut for linear models fit by least squares\n",
    "\n",
    "\n",
    "k- fold CV\n",
    "- randomly divide training set to k groups\n",
    "- first fold validation and rest training \n",
    "- repeat k times then take average of MSE\n",
    "- LOOCV special case k = n \n",
    "- computational advantage \n",
    "- more accurate estimates of test error rate because bias variance trade-off\n",
    "- LOOCV higher variance identical set up obsevations- correlated - mean of many highly correlated quantitites \n",
    "- for classification - look at classification error rather than mse \n",
    "\n",
    "\n",
    "bootstrap \n",
    "- "
   ]
  },
  {
   "cell_type": "code",
   "execution_count": 7,
   "id": "b9928d25",
   "metadata": {},
   "outputs": [],
   "source": [
    "import numpy as np\n",
    "import statsmodels.api as sm\n",
    "from ISLP import load_data\n",
    "from ISLP.models import (ModelSpec as MS,\n",
    "summarize ,\n",
    "poly)\n",
    "from sklearn.model_selection import train_test_split\n",
    "import statsmodels.formula.api as smf"
   ]
  },
  {
   "cell_type": "code",
   "execution_count": 2,
   "id": "c8f6e80e",
   "metadata": {},
   "outputs": [],
   "source": [
    "from functools import partial\n",
    "from sklearn.model_selection import (cross_validate , KFold , ShuffleSplit)\n",
    "from sklearn.base import clone\n",
    "from ISLP.models import sklearn_sm"
   ]
  },
  {
   "cell_type": "code",
   "execution_count": 4,
   "id": "7420a8ce",
   "metadata": {},
   "outputs": [],
   "source": [
    "auto = load_data('Auto')\n",
    "auto_train, auto_valid = train_test_split(auto, test_size = 196, random_state = 0)"
   ]
  },
  {
   "cell_type": "code",
   "execution_count": 25,
   "id": "04e0f085",
   "metadata": {},
   "outputs": [
    {
     "data": {
      "text/html": [
       "<table class=\"simpletable\">\n",
       "<caption>OLS Regression Results</caption>\n",
       "<tr>\n",
       "  <th>Dep. Variable:</th>           <td>mpg</td>       <th>  R-squared:         </th> <td>   0.608</td>\n",
       "</tr>\n",
       "<tr>\n",
       "  <th>Model:</th>                   <td>OLS</td>       <th>  Adj. R-squared:    </th> <td>   0.606</td>\n",
       "</tr>\n",
       "<tr>\n",
       "  <th>Method:</th>             <td>Least Squares</td>  <th>  F-statistic:       </th> <td>   300.4</td>\n",
       "</tr>\n",
       "<tr>\n",
       "  <th>Date:</th>             <td>Fri, 05 Apr 2024</td> <th>  Prob (F-statistic):</th> <td>2.83e-41</td>\n",
       "</tr>\n",
       "<tr>\n",
       "  <th>Time:</th>                 <td>14:58:01</td>     <th>  Log-Likelihood:    </th> <td> -590.83</td>\n",
       "</tr>\n",
       "<tr>\n",
       "  <th>No. Observations:</th>      <td>   196</td>      <th>  AIC:               </th> <td>   1186.</td>\n",
       "</tr>\n",
       "<tr>\n",
       "  <th>Df Residuals:</th>          <td>   194</td>      <th>  BIC:               </th> <td>   1192.</td>\n",
       "</tr>\n",
       "<tr>\n",
       "  <th>Df Model:</th>              <td>     1</td>      <th>                     </th>     <td> </td>   \n",
       "</tr>\n",
       "<tr>\n",
       "  <th>Covariance Type:</th>      <td>nonrobust</td>    <th>                     </th>     <td> </td>   \n",
       "</tr>\n",
       "</table>\n",
       "<table class=\"simpletable\">\n",
       "<tr>\n",
       "       <td></td>         <th>coef</th>     <th>std err</th>      <th>t</th>      <th>P>|t|</th>  <th>[0.025</th>    <th>0.975]</th>  \n",
       "</tr>\n",
       "<tr>\n",
       "  <th>intercept</th>  <td>   39.9055</td> <td>    1.009</td> <td>   39.537</td> <td> 0.000</td> <td>   37.915</td> <td>   41.896</td>\n",
       "</tr>\n",
       "<tr>\n",
       "  <th>horsepower</th> <td>   -0.1563</td> <td>    0.009</td> <td>  -17.333</td> <td> 0.000</td> <td>   -0.174</td> <td>   -0.139</td>\n",
       "</tr>\n",
       "</table>\n",
       "<table class=\"simpletable\">\n",
       "<tr>\n",
       "  <th>Omnibus:</th>       <td> 7.263</td> <th>  Durbin-Watson:     </th> <td>   2.175</td>\n",
       "</tr>\n",
       "<tr>\n",
       "  <th>Prob(Omnibus):</th> <td> 0.026</td> <th>  Jarque-Bera (JB):  </th> <td>   6.993</td>\n",
       "</tr>\n",
       "<tr>\n",
       "  <th>Skew:</th>          <td> 0.440</td> <th>  Prob(JB):          </th> <td>  0.0303</td>\n",
       "</tr>\n",
       "<tr>\n",
       "  <th>Kurtosis:</th>      <td> 3.286</td> <th>  Cond. No.          </th> <td>    319.</td>\n",
       "</tr>\n",
       "</table><br/><br/>Notes:<br/>[1] Standard Errors assume that the covariance matrix of the errors is correctly specified."
      ],
      "text/plain": [
       "<class 'statsmodels.iolib.summary.Summary'>\n",
       "\"\"\"\n",
       "                            OLS Regression Results                            \n",
       "==============================================================================\n",
       "Dep. Variable:                    mpg   R-squared:                       0.608\n",
       "Model:                            OLS   Adj. R-squared:                  0.606\n",
       "Method:                 Least Squares   F-statistic:                     300.4\n",
       "Date:                Fri, 05 Apr 2024   Prob (F-statistic):           2.83e-41\n",
       "Time:                        14:58:01   Log-Likelihood:                -590.83\n",
       "No. Observations:                 196   AIC:                             1186.\n",
       "Df Residuals:                     194   BIC:                             1192.\n",
       "Df Model:                           1                                         \n",
       "Covariance Type:            nonrobust                                         \n",
       "==============================================================================\n",
       "                 coef    std err          t      P>|t|      [0.025      0.975]\n",
       "------------------------------------------------------------------------------\n",
       "intercept     39.9055      1.009     39.537      0.000      37.915      41.896\n",
       "horsepower    -0.1563      0.009    -17.333      0.000      -0.174      -0.139\n",
       "==============================================================================\n",
       "Omnibus:                        7.263   Durbin-Watson:                   2.175\n",
       "Prob(Omnibus):                  0.026   Jarque-Bera (JB):                6.993\n",
       "Skew:                           0.440   Prob(JB):                       0.0303\n",
       "Kurtosis:                       3.286   Cond. No.                         319.\n",
       "==============================================================================\n",
       "\n",
       "Notes:\n",
       "[1] Standard Errors assume that the covariance matrix of the errors is correctly specified.\n",
       "\"\"\""
      ]
     },
     "execution_count": 25,
     "metadata": {},
     "output_type": "execute_result"
    }
   ],
   "source": [
    "hp_mm = MS(['horsepower'])\n",
    "X_train = hp_mm.fit_transform(auto_train)\n",
    "y_train = auto_train['mpg']\n",
    "model = sm.OLS(y_train , X_train)\n",
    "results = model.fit()\n",
    "results.summary()"
   ]
  },
  {
   "cell_type": "code",
   "execution_count": 26,
   "id": "d3843974",
   "metadata": {},
   "outputs": [
    {
     "data": {
      "text/html": [
       "<table class=\"simpletable\">\n",
       "<caption>OLS Regression Results</caption>\n",
       "<tr>\n",
       "  <th>Dep. Variable:</th>           <td>mpg</td>       <th>  R-squared:         </th> <td>   0.608</td>\n",
       "</tr>\n",
       "<tr>\n",
       "  <th>Model:</th>                   <td>OLS</td>       <th>  Adj. R-squared:    </th> <td>   0.606</td>\n",
       "</tr>\n",
       "<tr>\n",
       "  <th>Method:</th>             <td>Least Squares</td>  <th>  F-statistic:       </th> <td>   300.4</td>\n",
       "</tr>\n",
       "<tr>\n",
       "  <th>Date:</th>             <td>Fri, 05 Apr 2024</td> <th>  Prob (F-statistic):</th> <td>2.83e-41</td>\n",
       "</tr>\n",
       "<tr>\n",
       "  <th>Time:</th>                 <td>14:58:24</td>     <th>  Log-Likelihood:    </th> <td> -590.83</td>\n",
       "</tr>\n",
       "<tr>\n",
       "  <th>No. Observations:</th>      <td>   196</td>      <th>  AIC:               </th> <td>   1186.</td>\n",
       "</tr>\n",
       "<tr>\n",
       "  <th>Df Residuals:</th>          <td>   194</td>      <th>  BIC:               </th> <td>   1192.</td>\n",
       "</tr>\n",
       "<tr>\n",
       "  <th>Df Model:</th>              <td>     1</td>      <th>                     </th>     <td> </td>   \n",
       "</tr>\n",
       "<tr>\n",
       "  <th>Covariance Type:</th>      <td>nonrobust</td>    <th>                     </th>     <td> </td>   \n",
       "</tr>\n",
       "</table>\n",
       "<table class=\"simpletable\">\n",
       "<tr>\n",
       "       <td></td>         <th>coef</th>     <th>std err</th>      <th>t</th>      <th>P>|t|</th>  <th>[0.025</th>    <th>0.975]</th>  \n",
       "</tr>\n",
       "<tr>\n",
       "  <th>Intercept</th>  <td>   39.9055</td> <td>    1.009</td> <td>   39.537</td> <td> 0.000</td> <td>   37.915</td> <td>   41.896</td>\n",
       "</tr>\n",
       "<tr>\n",
       "  <th>horsepower</th> <td>   -0.1563</td> <td>    0.009</td> <td>  -17.333</td> <td> 0.000</td> <td>   -0.174</td> <td>   -0.139</td>\n",
       "</tr>\n",
       "</table>\n",
       "<table class=\"simpletable\">\n",
       "<tr>\n",
       "  <th>Omnibus:</th>       <td> 7.263</td> <th>  Durbin-Watson:     </th> <td>   2.175</td>\n",
       "</tr>\n",
       "<tr>\n",
       "  <th>Prob(Omnibus):</th> <td> 0.026</td> <th>  Jarque-Bera (JB):  </th> <td>   6.993</td>\n",
       "</tr>\n",
       "<tr>\n",
       "  <th>Skew:</th>          <td> 0.440</td> <th>  Prob(JB):          </th> <td>  0.0303</td>\n",
       "</tr>\n",
       "<tr>\n",
       "  <th>Kurtosis:</th>      <td> 3.286</td> <th>  Cond. No.          </th> <td>    319.</td>\n",
       "</tr>\n",
       "</table><br/><br/>Notes:<br/>[1] Standard Errors assume that the covariance matrix of the errors is correctly specified."
      ],
      "text/plain": [
       "<class 'statsmodels.iolib.summary.Summary'>\n",
       "\"\"\"\n",
       "                            OLS Regression Results                            \n",
       "==============================================================================\n",
       "Dep. Variable:                    mpg   R-squared:                       0.608\n",
       "Model:                            OLS   Adj. R-squared:                  0.606\n",
       "Method:                 Least Squares   F-statistic:                     300.4\n",
       "Date:                Fri, 05 Apr 2024   Prob (F-statistic):           2.83e-41\n",
       "Time:                        14:58:24   Log-Likelihood:                -590.83\n",
       "No. Observations:                 196   AIC:                             1186.\n",
       "Df Residuals:                     194   BIC:                             1192.\n",
       "Df Model:                           1                                         \n",
       "Covariance Type:            nonrobust                                         \n",
       "==============================================================================\n",
       "                 coef    std err          t      P>|t|      [0.025      0.975]\n",
       "------------------------------------------------------------------------------\n",
       "Intercept     39.9055      1.009     39.537      0.000      37.915      41.896\n",
       "horsepower    -0.1563      0.009    -17.333      0.000      -0.174      -0.139\n",
       "==============================================================================\n",
       "Omnibus:                        7.263   Durbin-Watson:                   2.175\n",
       "Prob(Omnibus):                  0.026   Jarque-Bera (JB):                6.993\n",
       "Skew:                           0.440   Prob(JB):                       0.0303\n",
       "Kurtosis:                       3.286   Cond. No.                         319.\n",
       "==============================================================================\n",
       "\n",
       "Notes:\n",
       "[1] Standard Errors assume that the covariance matrix of the errors is correctly specified.\n",
       "\"\"\""
      ]
     },
     "execution_count": 26,
     "metadata": {},
     "output_type": "execute_result"
    }
   ],
   "source": [
    "mod = smf.ols(formula = 'mpg ~ horsepower', data = auto_train)\n",
    "res = mod.fit()\n",
    "res.summary()"
   ]
  },
  {
   "cell_type": "code",
   "execution_count": 29,
   "id": "4bccff31",
   "metadata": {},
   "outputs": [
    {
     "data": {
      "text/plain": [
       "23.61661706966988"
      ]
     },
     "execution_count": 29,
     "metadata": {},
     "output_type": "execute_result"
    }
   ],
   "source": [
    "valid_pred = res.predict(auto_valid)\n",
    "np.mean((auto_valid['mpg'] - valid_pred)**2)"
   ]
  }
 ],
 "metadata": {
  "kernelspec": {
   "display_name": "Python 3 (ipykernel)",
   "language": "python",
   "name": "python3"
  },
  "language_info": {
   "codemirror_mode": {
    "name": "ipython",
    "version": 3
   },
   "file_extension": ".py",
   "mimetype": "text/x-python",
   "name": "python",
   "nbconvert_exporter": "python",
   "pygments_lexer": "ipython3",
   "version": "3.11.3"
  }
 },
 "nbformat": 4,
 "nbformat_minor": 5
}
